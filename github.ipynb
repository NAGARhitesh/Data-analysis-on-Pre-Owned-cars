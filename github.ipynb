{
 "cells": [
  {
   "cell_type": "code",
   "execution_count": null,
   "id": "eb997d67",
   "metadata": {},
   "outputs": [],
   "source": [
    "import requests\n",
    "from bs4 import BeautifulSoup as bs\n",
    "import pandas as pd\n",
    "import numpy as np\n",
    "import re"
   ]
  },
  {
   "cell_type": "code",
   "execution_count": null,
   "id": "8242dee3",
   "metadata": {},
   "outputs": [],
   "source": [
    "for i in range(1,25):\n",
    "    url='https://www.cars.com/shopping/results/?page='+str(i)+'&page_size=20&list_price_max=&makes[]=&maximum_distance=20&models[]=&stock_type=used&zip='\n",
    "    page=requests.get(url)\n",
    "    soup=bs(page.text)\n",
    "    a=soup.find_all('h2',class_='title')\n",
    "    #brand\n",
    "    for i in soup.find_all('h2',class_='title'):\n",
    "        a=i.text\n",
    "        b=a.split(' ')[1]\n",
    "        brand.append(b)\n",
    "    \n",
    "    \n",
    "    #Model\n",
    "    for i in soup.find_all('h2',class_='title'):\n",
    "        a=i.text\n",
    "        b=a[5:]\n",
    "        if b:\n",
    "            Model.append(b)\n",
    "        else:\n",
    "            Model.append(np.nan)\n",
    "\n",
    "    #Model_year\n",
    "        a= i.text\n",
    "        b=a.split(' ')[0]\n",
    "        if b:\n",
    "            Model_year.append(b)\n",
    "        else:\n",
    "            Model_year.append(np.nan)\n",
    "    #Mileage\n",
    "    \n",
    "    for i in soup.find_all('div',class_='mileage'):\n",
    "        a=i.text\n",
    "        b=re.sub('\\,','',a).split(' ')[0]\n",
    "        km_driven.append(b)\n",
    "\n",
    "     #price   \n",
    "    for i in soup.find_all('span',class_='primary-price'):\n",
    "        a=i.text\n",
    "        b=a.replace('$','')\n",
    "        if b:\n",
    "            price.append(b)\n",
    "        else:\n",
    "            price.append(np.nan)\n",
    "    #Rating    \n",
    "    for i in soup.find_all('span',class_='sds-rating__count'):\n",
    "        a=i.text\n",
    "        if a:\n",
    "            Rating.append(a)\n",
    "        else:\n",
    "            Rating.append(np.nan)     \n",
    "\n",
    "    ##Dealer_name\n",
    "    for i in soup.find_all('div',class_='dealer-name'):\n",
    "        a=i.text\n",
    "        b=a.strip()\n",
    "        if b:\n",
    "            Dealer_name.append(b)\n",
    "        else:\n",
    "            Dealer_name.append(np.nan)"
   ]
  }
 ],
 "metadata": {
  "kernelspec": {
   "display_name": "Python 3 (ipykernel)",
   "language": "python",
   "name": "python3"
  },
  "language_info": {
   "codemirror_mode": {
    "name": "ipython",
    "version": 3
   },
   "file_extension": ".py",
   "mimetype": "text/x-python",
   "name": "python",
   "nbconvert_exporter": "python",
   "pygments_lexer": "ipython3",
   "version": "3.9.7"
  }
 },
 "nbformat": 4,
 "nbformat_minor": 5
}
